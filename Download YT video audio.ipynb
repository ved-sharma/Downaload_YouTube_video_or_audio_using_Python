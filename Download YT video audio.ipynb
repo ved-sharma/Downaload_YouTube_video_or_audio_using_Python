{
 "cells": [
  {
   "cell_type": "code",
   "execution_count": 9,
   "id": "a29907b4-eb43-4476-8b28-d5f57c5cf78e",
   "metadata": {},
   "outputs": [],
   "source": [
    "# importing packages\n",
    "from pytube import YouTube\n",
    "import os"
   ]
  },
  {
   "cell_type": "code",
   "execution_count": 10,
   "id": "cae83b5b-019b-4fc2-b313-f5716995aae6",
   "metadata": {},
   "outputs": [],
   "source": [
    "#yt = YouTube(str(input(\"Enter the URL of the video you want to download: \\n>> \"))) # ask user for the url input\n",
    "yt = YouTube(\"https://www.youtube.com/watch?v=Dzej2YDQM6Q\") #or directly put the url here"
   ]
  },
  {
   "cell_type": "code",
   "execution_count": 11,
   "id": "0f03514d-4b97-4c96-a5ec-648403c5b9d0",
   "metadata": {},
   "outputs": [
    {
     "name": "stdout",
     "output_type": "stream",
     "text": [
      "<Stream: itag=\"17\" mime_type=\"video/3gpp\" res=\"144p\" fps=\"6fps\" vcodec=\"mp4v.20.3\" acodec=\"mp4a.40.2\" progressive=\"True\" type=\"video\">\n",
      "<Stream: itag=\"18\" mime_type=\"video/mp4\" res=\"360p\" fps=\"25fps\" vcodec=\"avc1.42001E\" acodec=\"mp4a.40.2\" progressive=\"True\" type=\"video\">\n",
      "<Stream: itag=\"22\" mime_type=\"video/mp4\" res=\"720p\" fps=\"25fps\" vcodec=\"avc1.64001F\" acodec=\"mp4a.40.2\" progressive=\"True\" type=\"video\">\n"
     ]
    }
   ],
   "source": [
    "#print(*yt.streams.filter(file_extension='mp4'), sep='\\n') # info about mp4 streams\n",
    "#print(*yt.streams.filter(), sep='\\n') #info about all streams\n",
    "print(*yt.streams.filter(progressive=True), sep='\\n') # list progressive streams, which contain both the video and audio"
   ]
  },
  {
   "cell_type": "code",
   "execution_count": 12,
   "id": "bf0eda2d-44cb-4f39-abda-13b74a981f4f",
   "metadata": {},
   "outputs": [],
   "source": [
    "#video = yt.streams.filter(file_extension='mp4').first() # get the first mp4 video stream, the one with 360p resolution\n",
    "video = yt.streams.get_by_itag(18) # or, get stream by itag"
   ]
  },
  {
   "cell_type": "code",
   "execution_count": 13,
   "id": "b6a40c9a-acf1-411c-8770-0879df2a9270",
   "metadata": {},
   "outputs": [
    {
     "name": "stdout",
     "output_type": "stream",
     "text": [
      "Enter the destination (leave blank for current directory)\n"
     ]
    },
    {
     "name": "stdin",
     "output_type": "stream",
     "text": [
      ">>  \n"
     ]
    },
    {
     "name": "stdout",
     "output_type": "stream",
     "text": [
      "cellpose - napari plugin demo and presentation has been successfully downloaded.\n"
     ]
    }
   ],
   "source": [
    "# check for destination to save file\n",
    "print(\"Enter the destination (leave blank for current directory)\")\n",
    "destination = str(input(\">> \")) or '.'\n",
    "  \n",
    "# download the file\n",
    "out_file = video.download(output_path=destination)\n",
    "  \n",
    "# save the file\n",
    "base, ext = os.path.splitext(out_file)\n",
    "new_file = base + '.mp4'\n",
    "os.rename(out_file, new_file)\n",
    "  \n",
    "# result of success\n",
    "print(yt.title + \" has been successfully downloaded.\")"
   ]
  },
  {
   "cell_type": "code",
   "execution_count": 15,
   "id": "931fce9a-718f-45a5-a7ab-ee0950247168",
   "metadata": {},
   "outputs": [
    {
     "name": "stdout",
     "output_type": "stream",
     "text": [
      "<Stream: itag=\"139\" mime_type=\"audio/mp4\" abr=\"48kbps\" acodec=\"mp4a.40.5\" progressive=\"False\" type=\"audio\">\n",
      "<Stream: itag=\"140\" mime_type=\"audio/mp4\" abr=\"128kbps\" acodec=\"mp4a.40.2\" progressive=\"False\" type=\"audio\">\n",
      "<Stream: itag=\"251\" mime_type=\"audio/webm\" abr=\"160kbps\" acodec=\"opus\" progressive=\"False\" type=\"audio\">\n"
     ]
    }
   ],
   "source": [
    "print(*yt.streams.filter(only_audio=True), sep='\\n') # info about only audio files"
   ]
  },
  {
   "cell_type": "code",
   "execution_count": 16,
   "id": "f45f5b72-712c-41eb-acc8-39ec6ef6e0e6",
   "metadata": {},
   "outputs": [],
   "source": [
    "video = yt.streams.filter(only_audio=True).first() # get the first audio stream"
   ]
  },
  {
   "cell_type": "code",
   "execution_count": 17,
   "id": "8812026c-14b0-4d75-be15-f6a0fb3d645a",
   "metadata": {},
   "outputs": [
    {
     "name": "stdout",
     "output_type": "stream",
     "text": [
      "Enter the destination (leave blank for current directory)\n"
     ]
    },
    {
     "name": "stdin",
     "output_type": "stream",
     "text": [
      ">>  \n"
     ]
    },
    {
     "name": "stdout",
     "output_type": "stream",
     "text": [
      "cellpose - napari plugin demo and presentation has been successfully downloaded.\n"
     ]
    }
   ],
   "source": [
    "# destination for the audio file\n",
    "print(\"Enter the destination (leave blank for current directory)\")\n",
    "destination = str(input(\">> \")) or '.'\n",
    "  \n",
    "# download the file\n",
    "out_file = video.download(output_path=destination)\n",
    "  \n",
    "# save the file\n",
    "base, ext = os.path.splitext(out_file)\n",
    "new_file = base + '.mp3'\n",
    "os.rename(out_file, new_file)\n",
    "  \n",
    "# result of success\n",
    "print(yt.title + \" has been successfully downloaded.\")"
   ]
  }
 ],
 "metadata": {
  "kernelspec": {
   "display_name": "Python 3 (ipykernel)",
   "language": "python",
   "name": "python3"
  },
  "language_info": {
   "codemirror_mode": {
    "name": "ipython",
    "version": 3
   },
   "file_extension": ".py",
   "mimetype": "text/x-python",
   "name": "python",
   "nbconvert_exporter": "python",
   "pygments_lexer": "ipython3",
   "version": "3.8.13"
  }
 },
 "nbformat": 4,
 "nbformat_minor": 5
}
